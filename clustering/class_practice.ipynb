{
 "cells": [
  {
   "cell_type": "code",
   "execution_count": 1,
   "metadata": {},
   "outputs": [],
   "source": [
    "import numpy as np"
   ]
  },
  {
   "cell_type": "code",
   "execution_count": 2,
   "metadata": {},
   "outputs": [
    {
     "name": "stdout",
     "output_type": "stream",
     "text": [
      "nan\n",
      "6\n",
      "3\n"
     ]
    },
    {
     "name": "stderr",
     "output_type": "stream",
     "text": [
      "/tmp/ipykernel_15985/2427701400.py:3: RuntimeWarning: invalid value encountered in sqrt\n",
      "  return np.sqrt(sum(res))\n"
     ]
    }
   ],
   "source": [
    "def euclidean_ditance(arr1, arr2):\n",
    "    res = [(arr1[i] - arr2[i])**2 for i in range(len(arr1))]\n",
    "    return np.sqrt(sum(res))\n",
    "def manhattan_distance(arr1, arr2):\n",
    "    res = [abs(arr1[i] - arr2[i]) for i in range(len(arr1))]\n",
    "    return sum(res)\n",
    "def chebshev(arr1, arr2):\n",
    "    res = [abs(arr1[i] - arr2[i]) for i in range(len(arr1))]\n",
    "    return max(res)\n",
    "\n",
    "arr1 = [1, 2, 3]\n",
    "arr2 = [2, 4, 6]\n",
    "\n",
    "print(euclidean_ditance(arr1, arr2))\n",
    "print(manhattan_distance(arr1, arr2))\n",
    "print(chebshev(arr1, arr2))\n"
   ]
  },
  {
   "cell_type": "code",
   "execution_count": null,
   "metadata": {},
   "outputs": [],
   "source": []
  }
 ],
 "metadata": {
  "kernelspec": {
   "display_name": "ml_venv",
   "language": "python",
   "name": "python3"
  },
  "language_info": {
   "codemirror_mode": {
    "name": "ipython",
    "version": 3
   },
   "file_extension": ".py",
   "mimetype": "text/x-python",
   "name": "python",
   "nbconvert_exporter": "python",
   "pygments_lexer": "ipython3",
   "version": "3.12.3"
  }
 },
 "nbformat": 4,
 "nbformat_minor": 2
}
